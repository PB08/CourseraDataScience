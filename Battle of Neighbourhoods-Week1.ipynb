{
 "cells": [
  {
   "cell_type": "markdown",
   "metadata": {},
   "source": [
    "\n",
    "\n",
    "<h1 align=center><font size = 5> Battle of Neighbourhoods "
   ]
  },
  {
   "cell_type": "markdown",
   "metadata": {},
   "source": [
    "## Problem Statement\n",
    "\n",
    "A Indian student is moving to New York from Mumbai for further studies. As he will use public transportation system for daily commute and will hardly have any time for cooking. Ideally, he wants to live in a neighborhood with both Indian grocery store and Indian restaurant, if not, at least one of them. \n",
    "\n",
    "## Broader Audience\n",
    "People relocating from India to New York wanting to live in neighborhood with easy access to Indian food.\n",
    "\n",
    "## Data and libraries\n",
    "\n",
    "Data Source: New York is pulled from shared drive provided in IBM Coursera program lab. \n",
    "\n",
    "Next, will convert New York  into its equivalent latitude and longitude values and will use the Foursquare API to explore neighborhoods in the city. I will use the **explore** function to get the most common venue categories in each neighborhood,and then use this feature to group the neighborhoods into clusters. The *k*-means clustering algorithm will be used to get clusters of neighborhoods in each cities. The Folium library will be used to visualize the neighborhoods in New York City.\n",
    "\n",
    "Finally, will compare the neighborhoods meeting both the criteria and those meeting at least one.\n",
    "\n",
    "\n",
    "Other libraries will be used to carry out analysis and derive desirable insights are - Pandas - Library for Data Analysis, NumPy – Library to handle data in a vectorized manner, JSON – Library to handle JSON files, Geopy – To retrieve Location Data, Requests – Library to handle http requests, Matplotlib – Python Plotting Module, Sklearn – Python machine learning Library, Folium – Map rendering Library"
   ]
  },
  {
   "cell_type": "markdown",
   "metadata": {},
   "source": [
    "Before we get the data and start exploring it, let's download all the dependencies that we will need."
   ]
  },
  {
   "cell_type": "markdown",
   "metadata": {},
   "source": [
    "<a id='item1'></a>"
   ]
  },
  {
   "cell_type": "code",
   "execution_count": null,
   "metadata": {},
   "outputs": [],
   "source": []
  }
 ],
 "metadata": {
  "kernelspec": {
   "display_name": "Python 3",
   "language": "python",
   "name": "python3"
  },
  "language_info": {
   "codemirror_mode": {
    "name": "ipython",
    "version": 3
   },
   "file_extension": ".py",
   "mimetype": "text/x-python",
   "name": "python",
   "nbconvert_exporter": "python",
   "pygments_lexer": "ipython3",
   "version": "3.6.6"
  },
  "widgets": {
   "state": {},
   "version": "1.1.2"
  }
 },
 "nbformat": 4,
 "nbformat_minor": 2
}
